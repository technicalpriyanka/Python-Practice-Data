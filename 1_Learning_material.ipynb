{
 "cells": [
  {
   "cell_type": "code",
   "execution_count": 2,
   "id": "92c3a8e2",
   "metadata": {},
   "outputs": [
    {
     "name": "stdout",
     "output_type": "stream",
     "text": [
      "3.9.7 (default, Sep 16 2021, 16:59:28) [MSC v.1916 64 bit (AMD64)]\n"
     ]
    }
   ],
   "source": [
    "import sys \n",
    "print(sys.version)  #with the help of sys module you cancheck version of your code editor"
   ]
  },
  {
   "cell_type": "code",
   "execution_count": 5,
   "id": "97409f00",
   "metadata": {},
   "outputs": [
    {
     "name": "stdout",
     "output_type": "stream",
     "text": [
      "5 is greater than 2\n"
     ]
    }
   ],
   "source": [
    "if 5 > 2:\n",
    "    print(\"5 is greater than 2\")#indentation is must here without proper indentation it will give u error"
   ]
  },
  {
   "cell_type": "code",
   "execution_count": 7,
   "id": "e2472022",
   "metadata": {},
   "outputs": [
    {
     "name": "stdout",
     "output_type": "stream",
     "text": [
      "5\n"
     ]
    }
   ],
   "source": [
    "x=5\n",
    "print(x) #python has no command no to assign or declaring variable and u can comment line wth of #"
   ]
  },
  {
   "cell_type": "code",
   "execution_count": 8,
   "id": "d829427a",
   "metadata": {},
   "outputs": [
    {
     "data": {
      "text/plain": [
       "'\\nhelon\\nfdshfjds\\njdfkjdfhda\\nhfjdgfdsj\\nthis is for multi line comment\\ns'"
      ]
     },
     "execution_count": 8,
     "metadata": {},
     "output_type": "execute_result"
    }
   ],
   "source": [
    "\"\"\"\n",
    "helon\n",
    "fdshfjds\n",
    "jdfkjdfhda\n",
    "hfjdgfdsj\n",
    "this is for multi line comment\n",
    "s\"\"\""
   ]
  },
  {
   "cell_type": "code",
   "execution_count": 24,
   "id": "54292c94",
   "metadata": {},
   "outputs": [
    {
     "name": "stdout",
     "output_type": "stream",
     "text": [
      "4\n",
      "me\n"
     ]
    }
   ],
   "source": [
    "a=4\n",
    "A=\"me\"\n",
    "print(a)\n",
    "print(A) #here a will not overhere because it has different values"
   ]
  },
  {
   "cell_type": "code",
   "execution_count": 16,
   "id": "9d0d1773",
   "metadata": {},
   "outputs": [
    {
     "name": "stdout",
     "output_type": "stream",
     "text": [
      "5\n",
      "4\n"
     ]
    }
   ],
   "source": [
    "a, b, c = 4, 5,6\n",
    "print(b)\n",
    "a=b=c = 4\n",
    "print(a)"
   ]
  },
  {
   "cell_type": "code",
   "execution_count": 23,
   "id": "707f5264",
   "metadata": {},
   "outputs": [
    {
     "name": "stdout",
     "output_type": "stream",
     "text": [
      "hi lizzie\n"
     ]
    }
   ],
   "source": [
    "a='lizzie'  #here variables are declared outside of function so called as global variable\n",
    "def myfunc():\n",
    "    print(\"hi \" + a)\n",
    "myfunc()"
   ]
  },
  {
   "cell_type": "code",
   "execution_count": 25,
   "id": "81d10944",
   "metadata": {},
   "outputs": [
    {
     "name": "stdout",
     "output_type": "stream",
     "text": [
      "fhsdgsvghfg\n"
     ]
    }
   ],
   "source": [
    "def myname():\n",
    "    global x    #with the help of global keyword u can assign \n",
    "    x =\"ghfg\"\n",
    "    \n",
    "myname()\n",
    "print(\"fhsdgsv\" + x)"
   ]
  },
  {
   "cell_type": "code",
   "execution_count": 1,
   "id": "9ccadaa7",
   "metadata": {},
   "outputs": [
    {
     "data": {
      "text/plain": [
       "int"
      ]
     },
     "execution_count": 1,
     "metadata": {},
     "output_type": "execute_result"
    }
   ],
   "source": [
    "a=2\n",
    "type(a)"
   ]
  },
  {
   "cell_type": "code",
   "execution_count": 3,
   "id": "17e33b0f",
   "metadata": {},
   "outputs": [
    {
     "data": {
      "text/plain": [
       "float"
      ]
     },
     "execution_count": 3,
     "metadata": {},
     "output_type": "execute_result"
    }
   ],
   "source": [
    "d=3.4\n",
    "type(d)"
   ]
  },
  {
   "cell_type": "code",
   "execution_count": 5,
   "id": "0112ddbf",
   "metadata": {},
   "outputs": [
    {
     "data": {
      "text/plain": [
       "str"
      ]
     },
     "execution_count": 5,
     "metadata": {},
     "output_type": "execute_result"
    }
   ],
   "source": [
    "b=\"sedf\"\n",
    "type(b)"
   ]
  },
  {
   "cell_type": "code",
   "execution_count": 6,
   "id": "68c28acd",
   "metadata": {},
   "outputs": [
    {
     "data": {
      "text/plain": [
       "False"
      ]
     },
     "execution_count": 6,
     "metadata": {},
     "output_type": "execute_result"
    }
   ],
   "source": [
    "a=True\n",
    "B=False\n",
    "a & B\n",
    "#and &"
   ]
  },
  {
   "cell_type": "code",
   "execution_count": 7,
   "id": "c1c0ed34",
   "metadata": {},
   "outputs": [
    {
     "data": {
      "text/plain": [
       "True"
      ]
     },
     "execution_count": 7,
     "metadata": {},
     "output_type": "execute_result"
    }
   ],
   "source": [
    "#logical operator - and or not\n",
    "a | B  #or |"
   ]
  },
  {
   "cell_type": "code",
   "execution_count": 8,
   "id": "fd66de9f",
   "metadata": {},
   "outputs": [],
   "source": [
    "ans= \"my name is priyanka\""
   ]
  },
  {
   "cell_type": "code",
   "execution_count": 9,
   "id": "aced5043",
   "metadata": {},
   "outputs": [
    {
     "data": {
      "text/plain": [
       "'my name is priyanka'"
      ]
     },
     "execution_count": 9,
     "metadata": {},
     "output_type": "execute_result"
    }
   ],
   "source": [
    "ans.lower()"
   ]
  },
  {
   "cell_type": "code",
   "execution_count": 10,
   "id": "d7385960",
   "metadata": {},
   "outputs": [
    {
     "data": {
      "text/plain": [
       "'MY NAME IS PRIYANKA'"
      ]
     },
     "execution_count": 10,
     "metadata": {},
     "output_type": "execute_result"
    }
   ],
   "source": [
    "ans.upper()"
   ]
  },
  {
   "cell_type": "code",
   "execution_count": 11,
   "id": "0e5f2c1b",
   "metadata": {},
   "outputs": [
    {
     "data": {
      "text/plain": [
       "'my*name*is*priyanka'"
      ]
     },
     "execution_count": 11,
     "metadata": {},
     "output_type": "execute_result"
    }
   ],
   "source": [
    "ans.replace(\" \", \"*\")"
   ]
  },
  {
   "cell_type": "code",
   "execution_count": 13,
   "id": "5fe7c2c1",
   "metadata": {},
   "outputs": [
    {
     "data": {
      "text/plain": [
       "4"
      ]
     },
     "execution_count": 13,
     "metadata": {},
     "output_type": "execute_result"
    }
   ],
   "source": [
    "ans.find('a')"
   ]
  },
  {
   "cell_type": "code",
   "execution_count": 14,
   "id": "8c085fd6",
   "metadata": {},
   "outputs": [
    {
     "data": {
      "text/plain": [
       "'my name is priyank'"
      ]
     },
     "execution_count": 14,
     "metadata": {},
     "output_type": "execute_result"
    }
   ],
   "source": [
    "ans[:-1]"
   ]
  },
  {
   "cell_type": "code",
   "execution_count": 15,
   "id": "45cbef07",
   "metadata": {},
   "outputs": [
    {
     "data": {
      "text/plain": [
       "' name i'"
      ]
     },
     "execution_count": 15,
     "metadata": {},
     "output_type": "execute_result"
    }
   ],
   "source": [
    "ans[2:9]"
   ]
  },
  {
   "cell_type": "code",
   "execution_count": 16,
   "id": "f715596a",
   "metadata": {},
   "outputs": [
    {
     "data": {
      "text/plain": [
       "['my', 'name', 'is', 'priyanka']"
      ]
     },
     "execution_count": 16,
     "metadata": {},
     "output_type": "execute_result"
    }
   ],
   "source": [
    "ans.split(\" \")"
   ]
  },
  {
   "cell_type": "code",
   "execution_count": 17,
   "id": "a9930ca1",
   "metadata": {},
   "outputs": [
    {
     "name": "stdout",
     "output_type": "stream",
     "text": [
      "enter your number2\n",
      "number is even\n"
     ]
    }
   ],
   "source": [
    "#even or odd\n",
    "\n",
    "ans=int(input(\"enter your number\"))\n",
    "if ans % 2 ==0:\n",
    "    print(\"number is even\")\n",
    "else:\n",
    "    print(\"number is odd\")"
   ]
  },
  {
   "cell_type": "code",
   "execution_count": 20,
   "id": "2f29a17c",
   "metadata": {},
   "outputs": [
    {
     "name": "stdout",
     "output_type": "stream",
     "text": [
      "enter your number-1\n",
      "number is negative\n"
     ]
    }
   ],
   "source": [
    "#positive negative zero\n",
    "\n",
    "num = int(input(\"enter your number\"))\n",
    "if num==0:\n",
    "    print(\"number is zero\")\n",
    "elif num > 0:\n",
    "    print(\"number is positive\")\n",
    "else:\n",
    "    print(\"number is negative\")"
   ]
  },
  {
   "cell_type": "code",
   "execution_count": 29,
   "id": "155feedf",
   "metadata": {},
   "outputs": [
    {
     "name": "stdout",
     "output_type": "stream",
     "text": [
      "enter ur num3\n",
      "6\n"
     ]
    }
   ],
   "source": [
    "#factorial 5*4*3*2*1\n",
    "\n",
    "num=int(input(\"enter ur num\"))\n",
    "factorial =1\n",
    "if num < 0:\n",
    "    print(\"factorial doesn't exist for less than 0\")\n",
    "elif num==0:\n",
    "    print(\"factorial becomes 1\")\n",
    "else:\n",
    "    for i in range(1, num+1):\n",
    "        factorial *=i\n",
    "    print(factorial)\n",
    "    "
   ]
  },
  {
   "cell_type": "code",
   "execution_count": 33,
   "id": "ac053fc6",
   "metadata": {},
   "outputs": [
    {
     "name": "stdout",
     "output_type": "stream",
     "text": [
      "enter ur number946823\n",
      "328649\n"
     ]
    }
   ],
   "source": [
    "#reverse\n",
    "\n",
    "num=int(input(\"enter ur number\"))\n",
    "rev = 0\n",
    "while num >0:\n",
    "    digit = num%10\n",
    "    rev = rev*10 + digit\n",
    "    num= num//10\n",
    "    \n",
    "print(rev)"
   ]
  },
  {
   "cell_type": "code",
   "execution_count": 36,
   "id": "c7094cdb",
   "metadata": {},
   "outputs": [
    {
     "name": "stdout",
     "output_type": "stream",
     "text": [
      "enter ur number25852\n",
      "palindome\n"
     ]
    }
   ],
   "source": [
    "#palindrome\n",
    "\n",
    "num=int(input(\"enter ur number\"))\n",
    "rev=0\n",
    "temp=num\n",
    "while num > 0:\n",
    "    digit = num%10\n",
    "    rev = rev*10 + digit\n",
    "    num = num//10\n",
    "    \n",
    "if (temp==rev):\n",
    "    print(\"palindome\")\n",
    "else:\n",
    "    print(\"not palindrome\")"
   ]
  },
  {
   "cell_type": "code",
   "execution_count": 38,
   "id": "cfd5112f",
   "metadata": {},
   "outputs": [
    {
     "name": "stdout",
     "output_type": "stream",
     "text": [
      "enter ur number8\n",
      "13\n"
     ]
    }
   ],
   "source": [
    "#fibbonacci 0, 1, 1, 2,  3, 5, 8, 13, 21, ....................\n",
    "\n",
    "n=int(input(\"enter ur number\"))\n",
    "a=0\n",
    "b=1\n",
    "if n < 0:\n",
    "    print(\"incorrect\")\n",
    "elif n ==0:\n",
    "    print(a)\n",
    "elif n==1:\n",
    "    print(a)\n",
    "else:\n",
    "    for i in range(2, n):\n",
    "        c=a+b\n",
    "        a=b\n",
    "        b=c\n",
    "    print(b)"
   ]
  },
  {
   "cell_type": "code",
   "execution_count": 39,
   "id": "0fe5cfae",
   "metadata": {},
   "outputs": [],
   "source": [
    "def hello():\n",
    "    print(\"hello world\")"
   ]
  },
  {
   "cell_type": "code",
   "execution_count": 40,
   "id": "cd140538",
   "metadata": {},
   "outputs": [
    {
     "name": "stdout",
     "output_type": "stream",
     "text": [
      "hello world\n"
     ]
    }
   ],
   "source": [
    "hello()"
   ]
  },
  {
   "cell_type": "code",
   "execution_count": 41,
   "id": "c857681c",
   "metadata": {},
   "outputs": [],
   "source": [
    "def add10(x):\n",
    "    return x+10\n"
   ]
  },
  {
   "cell_type": "code",
   "execution_count": 43,
   "id": "78d153c3",
   "metadata": {},
   "outputs": [
    {
     "data": {
      "text/plain": [
       "13"
      ]
     },
     "execution_count": 43,
     "metadata": {},
     "output_type": "execute_result"
    }
   ],
   "source": [
    "add10(3)"
   ]
  },
  {
   "cell_type": "code",
   "execution_count": 44,
   "id": "f1e49c68",
   "metadata": {},
   "outputs": [],
   "source": [
    "def even_odd(x):\n",
    "    if x%2==0:\n",
    "        print(\"even\")\n",
    "    else:\n",
    "        print(\"odd\")"
   ]
  },
  {
   "cell_type": "code",
   "execution_count": 45,
   "id": "0ee739cf",
   "metadata": {},
   "outputs": [
    {
     "name": "stdout",
     "output_type": "stream",
     "text": [
      "odd\n"
     ]
    }
   ],
   "source": [
    "even_odd(23)"
   ]
  },
  {
   "cell_type": "code",
   "execution_count": 46,
   "id": "43aa0afe",
   "metadata": {},
   "outputs": [],
   "source": [
    "#lambda function"
   ]
  },
  {
   "cell_type": "code",
   "execution_count": 47,
   "id": "ff4a5898",
   "metadata": {},
   "outputs": [],
   "source": [
    "num = lambda x:x*x*x"
   ]
  },
  {
   "cell_type": "code",
   "execution_count": 48,
   "id": "8a97d699",
   "metadata": {},
   "outputs": [
    {
     "data": {
      "text/plain": [
       "343"
      ]
     },
     "execution_count": 48,
     "metadata": {},
     "output_type": "execute_result"
    }
   ],
   "source": [
    "num(7)"
   ]
  },
  {
   "cell_type": "code",
   "execution_count": 59,
   "id": "c9403e75",
   "metadata": {},
   "outputs": [
    {
     "data": {
      "text/plain": [
       "[23, 5, 5, 27, 61]"
      ]
     },
     "execution_count": 59,
     "metadata": {},
     "output_type": "execute_result"
    }
   ],
   "source": [
    "#lambda with filter\n",
    "\n",
    "lis = [23,5 ,5,20, 56, 82, 27,61]\n",
    "fin_lis = list(filter(lambda x: (x%2 !=0 ), lis))\n",
    "fin_lis"
   ]
  },
  {
   "cell_type": "code",
   "execution_count": 53,
   "id": "5c9e52f3",
   "metadata": {},
   "outputs": [
    {
     "data": {
      "text/plain": [
       "[23, 5, 5, 27, 61]"
      ]
     },
     "execution_count": 53,
     "metadata": {},
     "output_type": "execute_result"
    }
   ],
   "source": [
    "fin_lis"
   ]
  },
  {
   "cell_type": "code",
   "execution_count": 58,
   "id": "ac0fea02",
   "metadata": {},
   "outputs": [
    {
     "data": {
      "text/plain": [
       "[460, 100, 100, 400, 1120, 1640, 540, 1220]"
      ]
     },
     "execution_count": 58,
     "metadata": {},
     "output_type": "execute_result"
    }
   ],
   "source": [
    "#Lambda with map\n",
    "\n",
    "lis = [23,5 ,5,20, 56, 82, 27,61]\n",
    "final=list(map(lambda x:x * 20, lis))\n",
    "final"
   ]
  },
  {
   "cell_type": "code",
   "execution_count": 60,
   "id": "7e07695a",
   "metadata": {},
   "outputs": [
    {
     "data": {
      "text/plain": [
       "279"
      ]
     },
     "execution_count": 60,
     "metadata": {},
     "output_type": "execute_result"
    }
   ],
   "source": [
    "#lambda with reduce\n",
    "\n",
    "from functools import reduce\n",
    "lis = [23,5 ,5,20, 56, 82, 27,61]\n",
    "sum=reduce((lambda x,y:x+y), lis)   #adding all for sum\n",
    "sum"
   ]
  },
  {
   "cell_type": "code",
   "execution_count": 61,
   "id": "dbadb14f",
   "metadata": {},
   "outputs": [
    {
     "name": "stdout",
     "output_type": "stream",
     "text": [
      "5\n"
     ]
    }
   ],
   "source": [
    "def fun(n):\n",
    "    n = 5\n",
    "    return n\n",
    "\n",
    "n = 10\n",
    "n = fun(n)\n",
    "print(n)"
   ]
  },
  {
   "cell_type": "code",
   "execution_count": 117,
   "id": "1949d704",
   "metadata": {},
   "outputs": [
    {
     "name": "stdout",
     "output_type": "stream",
     "text": [
      "\n",
      "\n",
      "1 \n",
      "\n",
      "2 2 \n",
      "\n",
      "3 3 3 \n",
      "\n",
      "4 4 4 4 \n",
      "\n",
      "5 5 5 5 5 \n",
      "\n"
     ]
    }
   ],
   "source": [
    "# 10 is the total number to print\n",
    "for num in range(6):\n",
    "    for i in range(num):\n",
    "        print (num,end=\" \") #print number\n",
    "    # new line after each row to display pattern correctly\n",
    "    print(\"\\n\")"
   ]
  },
  {
   "cell_type": "code",
   "execution_count": 82,
   "id": "3e999969",
   "metadata": {},
   "outputs": [],
   "source": [
    "#crating class with python\n",
    "\n",
    "class phone:\n",
    "    def make_phone(self):\n",
    "        print(\"making a call\")\n",
    "        \n",
    "    def play_phone(self):\n",
    "        print(\"playing games\")"
   ]
  },
  {
   "cell_type": "code",
   "execution_count": 83,
   "id": "a9ebf6fc",
   "metadata": {},
   "outputs": [],
   "source": [
    "p1=phone()"
   ]
  },
  {
   "cell_type": "code",
   "execution_count": 65,
   "id": "dd329412",
   "metadata": {},
   "outputs": [
    {
     "name": "stdout",
     "output_type": "stream",
     "text": [
      "making a call\n"
     ]
    }
   ],
   "source": [
    "p1.make_phone()"
   ]
  },
  {
   "cell_type": "code",
   "execution_count": 66,
   "id": "d85f0de1",
   "metadata": {},
   "outputs": [
    {
     "name": "stdout",
     "output_type": "stream",
     "text": [
      "playing games\n"
     ]
    }
   ],
   "source": [
    "p1.play_phone()"
   ]
  },
  {
   "cell_type": "code",
   "execution_count": 73,
   "id": "677e355c",
   "metadata": {},
   "outputs": [],
   "source": [
    "#adding parameters to class\n",
    "\n",
    "class Phone:\n",
    "    def set_colour(self, colour):\n",
    "        self.colour=colour\n",
    "        \n",
    "    def set_cost(self, cost):\n",
    "        self.cost=cost\n",
    "        \n",
    "    def show_colour(self):\n",
    "        return self.colour\n",
    "    \n",
    "    def show_cost(self):\n",
    "        return self.cost\n",
    "    \n",
    "    def make_phone(self):\n",
    "        print(\"make a call\")\n",
    "        \n",
    "    def play_phone(self):\n",
    "        print(\"playing games\")\n",
    "        \n",
    "\n"
   ]
  },
  {
   "cell_type": "code",
   "execution_count": 74,
   "id": "aa4de75a",
   "metadata": {},
   "outputs": [],
   "source": [
    "p2=Phone()  \n",
    "        "
   ]
  },
  {
   "cell_type": "code",
   "execution_count": 75,
   "id": "d043e536",
   "metadata": {},
   "outputs": [],
   "source": [
    "p2.set_colour('blue')"
   ]
  },
  {
   "cell_type": "code",
   "execution_count": 76,
   "id": "1bce8eb1",
   "metadata": {},
   "outputs": [],
   "source": [
    "p2.set_cost(45)"
   ]
  },
  {
   "cell_type": "code",
   "execution_count": 77,
   "id": "374d4572",
   "metadata": {},
   "outputs": [
    {
     "data": {
      "text/plain": [
       "'blue'"
      ]
     },
     "execution_count": 77,
     "metadata": {},
     "output_type": "execute_result"
    }
   ],
   "source": [
    "p2.show_colour()"
   ]
  },
  {
   "cell_type": "code",
   "execution_count": 79,
   "id": "3a5ad3b5",
   "metadata": {},
   "outputs": [
    {
     "data": {
      "text/plain": [
       "45"
      ]
     },
     "execution_count": 79,
     "metadata": {},
     "output_type": "execute_result"
    }
   ],
   "source": [
    "p2.show_cost()"
   ]
  },
  {
   "cell_type": "code",
   "execution_count": 80,
   "id": "acdf3851",
   "metadata": {},
   "outputs": [
    {
     "name": "stdout",
     "output_type": "stream",
     "text": [
      "make a call\n"
     ]
    }
   ],
   "source": [
    "p2.make_phone()"
   ]
  },
  {
   "cell_type": "code",
   "execution_count": 81,
   "id": "ee9f7a04",
   "metadata": {},
   "outputs": [
    {
     "name": "stdout",
     "output_type": "stream",
     "text": [
      "playing games\n"
     ]
    }
   ],
   "source": [
    "p2.play_phone()"
   ]
  },
  {
   "cell_type": "code",
   "execution_count": 84,
   "id": "ff0fb0b7",
   "metadata": {},
   "outputs": [],
   "source": [
    "#creating class with constructor\n",
    "#init method acts as constructor"
   ]
  },
  {
   "cell_type": "code",
   "execution_count": 85,
   "id": "b78e41d7",
   "metadata": {},
   "outputs": [],
   "source": [
    "class Employee:\n",
    "    def __init__(self, name, age, salary, gender):\n",
    "        self.name=name\n",
    "        self.age=age\n",
    "        self.salary=salary\n",
    "        self.gender=gender\n",
    "        \n",
    "    def show_details(self):\n",
    "        print(\"name of employee\", self.name)\n",
    "        print(\"age of employee\", self.age)\n",
    "        print(\"salary of employee\", self.salary)\n",
    "        print(\"gender of employee\", self.gender)\n",
    "        "
   ]
  },
  {
   "cell_type": "code",
   "execution_count": 88,
   "id": "773104c5",
   "metadata": {},
   "outputs": [],
   "source": [
    "e1=Employee(\"Priyanka\", 23, 34323, \"Female\")"
   ]
  },
  {
   "cell_type": "code",
   "execution_count": 89,
   "id": "014f2fcc",
   "metadata": {},
   "outputs": [
    {
     "name": "stdout",
     "output_type": "stream",
     "text": [
      "name of employee Priyanka\n",
      "age of employee 23\n",
      "salary of employee 34323\n",
      "gender of employee Female\n"
     ]
    }
   ],
   "source": [
    "e1.show_details()"
   ]
  },
  {
   "cell_type": "code",
   "execution_count": 90,
   "id": "1a4c9841",
   "metadata": {},
   "outputs": [],
   "source": [
    "#inheritance of class - one class derive properties of another class"
   ]
  },
  {
   "cell_type": "code",
   "execution_count": 95,
   "id": "e8138b7a",
   "metadata": {},
   "outputs": [],
   "source": [
    "class vehicle:\n",
    "    def __init__(self, mileage, cost):\n",
    "        self.mileage=mileage\n",
    "        self.cost=cost\n",
    "        \n",
    "    def show_details(self):\n",
    "        print(\"I am vehicle\")\n",
    "        print(\"Mileage is\", self.mileage)\n",
    "        print(\"cost is\", self.cost)\n",
    "        \n",
    "    "
   ]
  },
  {
   "cell_type": "code",
   "execution_count": 96,
   "id": "e1f090ee",
   "metadata": {},
   "outputs": [],
   "source": [
    "v1=vehicle(300, 200000)"
   ]
  },
  {
   "cell_type": "code",
   "execution_count": 97,
   "id": "f9dcf526",
   "metadata": {},
   "outputs": [
    {
     "name": "stdout",
     "output_type": "stream",
     "text": [
      "I am vehicle\n",
      "Mileage is 300\n",
      "cost is 200000\n"
     ]
    }
   ],
   "source": [
    "v1.show_details()"
   ]
  },
  {
   "cell_type": "code",
   "execution_count": 99,
   "id": "6b3eba65",
   "metadata": {},
   "outputs": [],
   "source": [
    "#create child class\n",
    "class Car(vehicle):\n",
    "    def show_car_details(self):\n",
    "        print(\"I am car\")\n",
    "        "
   ]
  },
  {
   "cell_type": "code",
   "execution_count": 100,
   "id": "f22d6584",
   "metadata": {},
   "outputs": [],
   "source": [
    "c1=Car(200, 100000)"
   ]
  },
  {
   "cell_type": "code",
   "execution_count": 102,
   "id": "b831140c",
   "metadata": {},
   "outputs": [
    {
     "name": "stdout",
     "output_type": "stream",
     "text": [
      "I am vehicle\n",
      "Mileage is 200\n",
      "cost is 100000\n"
     ]
    }
   ],
   "source": [
    "c1.show_details()"
   ]
  },
  {
   "cell_type": "code",
   "execution_count": 103,
   "id": "539c15d9",
   "metadata": {},
   "outputs": [
    {
     "name": "stdout",
     "output_type": "stream",
     "text": [
      "I am car\n"
     ]
    }
   ],
   "source": [
    "c1.show_car_details()"
   ]
  },
  {
   "cell_type": "code",
   "execution_count": 110,
   "id": "c4071de4",
   "metadata": {},
   "outputs": [],
   "source": [
    "#overriding init method\n",
    "\n",
    "#init method \n",
    "\n",
    "class vehicle:\n",
    "    def __init__(self, mileage, cost):\n",
    "        self.mileage=mileage\n",
    "        self.cost=cost\n",
    "        \n",
    "    def show_details(self):\n",
    "        print(\"I am vehicle\")\n",
    "        print(\"Mileage is\", self.mileage)\n",
    "        print(\"cost is\", self.cost)\n",
    "        \n",
    "class Car(vehicle):\n",
    "    def __init__(self, mileage, cost, tyres, hp):\n",
    "        super().__init__(mileage, cost)\n",
    "        self.tyres=tyres\n",
    "        self.hp=hp\n",
    "        \n",
    "    def show_car_details(self):\n",
    "        print(\"I am car\")\n",
    "        print(\"tyres count is\", self.tyres)\n",
    "        print(\"horse power is\", self.hp)\n",
    "        \n",
    "        "
   ]
  },
  {
   "cell_type": "code",
   "execution_count": 114,
   "id": "9fec175c",
   "metadata": {},
   "outputs": [],
   "source": [
    "c2 = Car(20,400000,4,454)"
   ]
  },
  {
   "cell_type": "code",
   "execution_count": 115,
   "id": "c3ad57f7",
   "metadata": {},
   "outputs": [
    {
     "name": "stdout",
     "output_type": "stream",
     "text": [
      "I am vehicle\n",
      "Mileage is 20\n",
      "cost is 400000\n"
     ]
    }
   ],
   "source": [
    "#invoking from parent class\n",
    "\n",
    "c2.show_details()"
   ]
  },
  {
   "cell_type": "code",
   "execution_count": 116,
   "id": "412c2643",
   "metadata": {},
   "outputs": [
    {
     "name": "stdout",
     "output_type": "stream",
     "text": [
      "I am car\n",
      "tyres count is 4\n",
      "horse power is 454\n"
     ]
    }
   ],
   "source": [
    "#invoking from child class\n",
    "c2.show_car_details()"
   ]
  },
  {
   "cell_type": "code",
   "execution_count": 118,
   "id": "33f6969c",
   "metadata": {},
   "outputs": [],
   "source": [
    "#types of inheritance"
   ]
  },
  {
   "cell_type": "code",
   "execution_count": 119,
   "id": "f96cf779",
   "metadata": {},
   "outputs": [],
   "source": [
    "# 1.single inheritance\n",
    "# 2. multiple (mote than one parent class)\n",
    "# 3. multilevel \n",
    "# 4.hybrid inheritance"
   ]
  },
  {
   "cell_type": "code",
   "execution_count": 121,
   "id": "cc2980bf",
   "metadata": {},
   "outputs": [],
   "source": [
    "#creating parent class\n",
    "\n",
    "class Parent1:\n",
    "    def assign_str1(self, str1):\n",
    "        self.str1 = str1\n",
    "    def show_str1(self):\n",
    "        print(self.str1)\n",
    "\n",
    "class Parent2:\n",
    "    def assign_str2(self, str2):\n",
    "        self.str2 = str2\n",
    "    def show_str2(self):\n",
    "        print(self.str2)"
   ]
  },
  {
   "cell_type": "code",
   "execution_count": 122,
   "id": "da55c938",
   "metadata": {},
   "outputs": [],
   "source": [
    "#creating child class\n",
    "class Child(Parent1, Parent2):\n",
    "    def assign_str3(self, str3):\n",
    "        self.str3 = str3\n",
    "    def show_str3(self):\n",
    "        print(self.str3)"
   ]
  },
  {
   "cell_type": "code",
   "execution_count": 123,
   "id": "327fe662",
   "metadata": {},
   "outputs": [],
   "source": [
    "c1= Child()"
   ]
  },
  {
   "cell_type": "code",
   "execution_count": 124,
   "id": "ff2e1110",
   "metadata": {},
   "outputs": [],
   "source": [
    "c1.assign_str1(\"Sparta\")"
   ]
  },
  {
   "cell_type": "code",
   "execution_count": 125,
   "id": "31918576",
   "metadata": {},
   "outputs": [],
   "source": [
    "c1.assign_str2(\"Hello\")"
   ]
  },
  {
   "cell_type": "code",
   "execution_count": 126,
   "id": "76a99226",
   "metadata": {},
   "outputs": [],
   "source": [
    "c1.assign_str3(\"World\")"
   ]
  },
  {
   "cell_type": "code",
   "execution_count": 127,
   "id": "8c7597ed",
   "metadata": {},
   "outputs": [
    {
     "name": "stdout",
     "output_type": "stream",
     "text": [
      "Sparta\n"
     ]
    }
   ],
   "source": [
    "c1.show_str1()"
   ]
  },
  {
   "cell_type": "code",
   "execution_count": 129,
   "id": "aeac657b",
   "metadata": {},
   "outputs": [
    {
     "name": "stdout",
     "output_type": "stream",
     "text": [
      "Hello\n"
     ]
    }
   ],
   "source": [
    "c1.show_str2()"
   ]
  },
  {
   "cell_type": "code",
   "execution_count": 130,
   "id": "86f0cfe7",
   "metadata": {},
   "outputs": [
    {
     "name": "stdout",
     "output_type": "stream",
     "text": [
      "World\n"
     ]
    }
   ],
   "source": [
    "c1.show_str3()"
   ]
  },
  {
   "cell_type": "code",
   "execution_count": 131,
   "id": "a0848eaf",
   "metadata": {},
   "outputs": [],
   "source": [
    "#multilevel\n",
    "# parent child grandchild"
   ]
  },
  {
   "cell_type": "code",
   "execution_count": 137,
   "id": "0671865f",
   "metadata": {},
   "outputs": [],
   "source": [
    "class Parent:\n",
    "    def assign_name(self, name):\n",
    "        self.name=name\n",
    "    def show_name(self):\n",
    "        return self.name\n",
    "    \n",
    "class Child(Parent):\n",
    "    def assign_age(self, age):\n",
    "        self.age=age\n",
    "    def show_age(self):\n",
    "        return self.age\n",
    "        \n",
    "class GrandChild(Child):\n",
    "    def assign_gender(self, gender):\n",
    "        self.gender=gender\n",
    "    def show_gender(self):\n",
    "        return self.gender"
   ]
  },
  {
   "cell_type": "code",
   "execution_count": 138,
   "id": "bcd0309b",
   "metadata": {},
   "outputs": [],
   "source": [
    "g1=GrandChild()"
   ]
  },
  {
   "cell_type": "code",
   "execution_count": 139,
   "id": "2824c68e",
   "metadata": {},
   "outputs": [],
   "source": [
    "g1.assign_name(\"Priyanka\")"
   ]
  },
  {
   "cell_type": "code",
   "execution_count": 140,
   "id": "342a90f8",
   "metadata": {},
   "outputs": [],
   "source": [
    "g1.assign_age(23)"
   ]
  },
  {
   "cell_type": "code",
   "execution_count": 141,
   "id": "6025c867",
   "metadata": {},
   "outputs": [],
   "source": [
    "g1.assign_gender(\"Female\")"
   ]
  },
  {
   "cell_type": "code",
   "execution_count": 142,
   "id": "8b4443da",
   "metadata": {},
   "outputs": [
    {
     "data": {
      "text/plain": [
       "'Priyanka'"
      ]
     },
     "execution_count": 142,
     "metadata": {},
     "output_type": "execute_result"
    }
   ],
   "source": [
    "g1.show_name()"
   ]
  },
  {
   "cell_type": "code",
   "execution_count": 143,
   "id": "da55955f",
   "metadata": {},
   "outputs": [
    {
     "data": {
      "text/plain": [
       "23"
      ]
     },
     "execution_count": 143,
     "metadata": {},
     "output_type": "execute_result"
    }
   ],
   "source": [
    "g1.show_age()"
   ]
  },
  {
   "cell_type": "code",
   "execution_count": 144,
   "id": "2e0dd874",
   "metadata": {},
   "outputs": [
    {
     "data": {
      "text/plain": [
       "'Female'"
      ]
     },
     "execution_count": 144,
     "metadata": {},
     "output_type": "execute_result"
    }
   ],
   "source": [
    "g1.show_gender()"
   ]
  },
  {
   "cell_type": "code",
   "execution_count": null,
   "id": "4d2d19f2",
   "metadata": {},
   "outputs": [],
   "source": []
  },
  {
   "cell_type": "code",
   "execution_count": null,
   "id": "36fe90f1",
   "metadata": {},
   "outputs": [],
   "source": []
  },
  {
   "cell_type": "code",
   "execution_count": 145,
   "id": "17557a63",
   "metadata": {},
   "outputs": [],
   "source": [
    "a=10"
   ]
  },
  {
   "cell_type": "code",
   "execution_count": 146,
   "id": "4e1466e4",
   "metadata": {},
   "outputs": [],
   "source": [
    "b=20"
   ]
  },
  {
   "cell_type": "code",
   "execution_count": 147,
   "id": "e16559ba",
   "metadata": {},
   "outputs": [
    {
     "data": {
      "text/plain": [
       "True"
      ]
     },
     "execution_count": 147,
     "metadata": {},
     "output_type": "execute_result"
    }
   ],
   "source": [
    "a!=b"
   ]
  },
  {
   "cell_type": "code",
   "execution_count": null,
   "id": "5d7e239c",
   "metadata": {},
   "outputs": [],
   "source": []
  }
 ],
 "metadata": {
  "kernelspec": {
   "display_name": "Python 3 (ipykernel)",
   "language": "python",
   "name": "python3"
  },
  "language_info": {
   "codemirror_mode": {
    "name": "ipython",
    "version": 3
   },
   "file_extension": ".py",
   "mimetype": "text/x-python",
   "name": "python",
   "nbconvert_exporter": "python",
   "pygments_lexer": "ipython3",
   "version": "3.9.7"
  }
 },
 "nbformat": 4,
 "nbformat_minor": 5
}
